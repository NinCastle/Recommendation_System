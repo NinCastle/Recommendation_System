{
 "cells": [
  {
   "cell_type": "markdown",
   "metadata": {},
   "source": [
    "[파이썬 협업 필터링](http://kutar37.tistory.com/37)  \n",
    "[협업 필터링 추천](https://www.bloter.net/archives/263722)  \n",
    "[데이터 사이언스 스쿨](https://datascienceschool.net/view-notebook/fcd3550f11ac4537acec8d18136f2066/)  \n",
    "하기 내용은 상기 링크들을 정리한것."
   ]
  },
  {
   "cell_type": "markdown",
   "metadata": {},
   "source": [
    "# Collaborative Filtering"
   ]
  },
  {
   "cell_type": "markdown",
   "metadata": {},
   "source": [
    "협업 필터링은 추천시스템의 한줄기이다.  \n",
    "시작은 컴퓨터의 보편화로 1970대에 정보 검색의 필요성이 빠르게 증가하며, 대두되어었다."
   ]
  },
  {
   "cell_type": "markdown",
   "metadata": {},
   "source": [
    "이에 대해 최초의 보여지는 논문은 'User Modeling via Stereotypes'로 보이며 다음과 같은 아이디어로 출발한다.\n",
    "> “대형 도서관에 누군가 들어왔다. 그리곤 사서에게 중국에 관심이 있다며 관련 책을 알려달라고 요청했다. 도서관 사서는 어떤 종류의 책을 추천해야 할까? 그 사람이 중국에 관한 TV 쇼를 본 어린 아이여서 이국적인 장소의 사진을 더 보길 원한다면?”"
   ]
  },
  {
   "cell_type": "markdown",
   "metadata": {},
   "source": [
    "이와 같은 아이디어로 출발한 리치교수의 아이디어는 이후 발전하여 미국 팔로알토 제록스연구소의 태피스트리 프로젝트에서 더욱 발전되었다.  \n",
    "개발을 주도했던 데이비드 골드버그는 협업 필터링을 아래와 같이 정의 했다."
   ]
  },
  {
   "cell_type": "markdown",
   "metadata": {},
   "source": [
    "“협업 필터링은 간단히 말해서, 그들이 읽었던 문서를 기록함으로써 사람들끼리 필터링을 도와주는 것을 의미한다.”(Goldberg, D., et all, 1992)."
   ]
  },
  {
   "cell_type": "markdown",
   "metadata": {},
   "source": [
    "이후 자동화된 협업필터링이 생겨났다."
   ]
  },
  {
   "cell_type": "markdown",
   "metadata": {},
   "source": [
    "대표적인 추천 시스템: \n",
    "* 카카오의 루빅스 - 'Real-time User Behavior-based Interactive Content recommender System'의 첫 글자를 딴 약어이다.  \n",
    "즉, **실시간**으로 사용자의 행위에 따라 상호작용하면서 콘텐츠를 추천하는 알고리즘이라는 의미를 가지고 있다.\n",
    "* 아마존 - 서적추천\n",
    "* 넷플릭스 - 영화추천"
   ]
  },
  {
   "cell_type": "markdown",
   "metadata": {},
   "source": [
    "## 추천 방법 이론\n",
    "![](http://www.bloter.net/wp-content/uploads/2016/09/Collaborative_filtering.gif)"
   ]
  },
  {
   "cell_type": "markdown",
   "metadata": {},
   "source": [
    "## 협업 필터링 알고리즘 종류"
   ]
  },
  {
   "cell_type": "markdown",
   "metadata": {},
   "source": [
    "|종류|구현기법|\n",
    "|---|---|\n",
    "|메모리 기반 CF|User-User Based|\n",
    "||Item-Item Based|\n",
    "|모델 기반 CF|베이지안(Bayesian belief nets) CF|\n",
    "||클러스터링 CF|\n",
    "||회귀(Regression) 기반 CF|\n",
    "||잠재(Latent) CF|\n",
    "||차원 축소(Dimensionality Reduction) CF|\n",
    "|하이브리드 CF|Content-Based CF|\n",
    "||Combining algorithms|\n",
    "협업 필터링 알고리즘의 종류와 구분. 조현제&이필규(2014) 재인용."
   ]
  },
  {
   "cell_type": "markdown",
   "metadata": {},
   "source": [
    "아래는 협업 필터링의 기초인 메모리 기반에 대해 설명한 글이다.\n",
    "* 사용자 기반 방식(User-User Based): 사용자 간의 취향 유사도를 분석해 뉴스등을 추천하는 방식으로 진행된다. \n",
    "예를 들어, 철수는 정치, 사회, 문화 뉴스를 좋아 할경우 철수와 유사한 성향을 가진 사람일 경우 비슷한 군집군 이라는 전제 아래 추천을 하게 된다.  \n",
    "위와 같이 군집을 알아야하기 위해서는 또는 유사도를 파악하기 위해서는 거리를 계산하는 모델이 필요하다.  \n",
    "그 종류는 아래와 같다. (Ekstrand.M.D.et al.,2011)\n",
    "> 1. 코사인 유사도  \n",
    "> 2. 피어슨 상관계수  \n",
    "> 3. 스피어만 상관계수  등등\n",
    "\n",
    "그러나 사용자 기반 협업 필터링은 사용자가 늘어날수록 계산량이 급격하게 증가한다.  \n",
    "예를 들어 쇼핑몰의 사용자가 10만명 이면 10만명의 유사도를 계산해야 한다.  \n",
    "그래서 이와 같은 문제를 해결하기 위해 등장한 방식이 아이템 기반 협업 필터링이다.  \n"
   ]
  },
  {
   "cell_type": "markdown",
   "metadata": {},
   "source": [
    "* 아이템 기반 협업 필터링(Item-Item Based): 아이템 기반 협업 필터링은 사용자 기반 방식과는 다르게 아이템의 유사도를 먼저 측정한다.  \n",
    "예를 들어 '이 기사를 본 사람들이 본 뉴스'나 교보문고의 '이 책을 구매하신 분들이 함계 구매한 상품입니다' 같은 예를 말한다.  \n",
    "즉, A라는 책을 구매한 사람이 대부분 B를 구매했다면,  \n",
    "A와 B의 유사도가 높다고 계산해 A를 구매한 사람에게 B도 같이 추천하는 형태를 말한다."
   ]
  },
  {
   "cell_type": "markdown",
   "metadata": {},
   "source": [
    "## 모델 기반 협업 필터링"
   ]
  },
  {
   "cell_type": "markdown",
   "metadata": {},
   "source": [
    "모델 기반 협업 필터링: 협업필터링 + 기계학습"
   ]
  },
  {
   "cell_type": "markdown",
   "metadata": {},
   "source": [
    "모델 기반 협업 필터링은 머신러닝을 이용하여 관련데이터를 학습하면서 추천 예측 정확도를 높여간다.  \n",
    "이 가운데 잠재 모델 기반 협업필터링에 주목할 필요가 있다.  \n",
    "넷플렉스에서도 추천시스템을 개발할 때 자주 활용되는 알고리즘이기 때문이다.  \n",
    "이 알고리즘은 아이템의 다양한 메타데이터를 분석해 사용자가 선호하는 이유를 밝혀내는 방식으로 작동한다(서봉원, 2016).  \n",
    "> 좀더 쉬운 예로 철수라는 사용자가 해당 기사를 선호하는 이유(패턴)를 먼저 파악한다.  \n",
    "즉, 뉴스의 주요속성 예를 들어 기자, 취재원 카테고리 등을 분석해 철수라는 사용자가 해당 기사를 선호하는 이유(패턴)을 파악하고 이를 바탕으로 철수가 좋아할 만한 특정 언론사의 A기자 뉴스를 추천한다.\n",
    "\n",
    "위와 같이 대단위의 정보를 빠르게 분석하여 결과를 도출한다면 높은 정확도로 추천 결과를 뽑을 수 있다."
   ]
  },
  {
   "cell_type": "markdown",
   "metadata": {},
   "source": [
    "그러나 사용자의 상황, 날씨, 정치, 경험에 따라 뉴스의 선호가 급격하게 변하는 경우가 있을 수 있다.  \n",
    "따라서 사람의 개입이 필요한 경우가 있다.  \n",
    "그래서 1차적으로 추천할 것을 사람이 추려내고 의제설정 과정에서도 사람이 일부 관여한다.  \n",
    "이후 머신러닝을 이용하여 추려진 내용안에서 2차적으로 추려내는 방식을 사용하는것이 요즘 추세이다."
   ]
  },
  {
   "cell_type": "markdown",
   "metadata": {},
   "source": [
    "기사작성을 위한 참고문헌\n",
    "* 서봉원.(2016). 콘텐츠 추천 알고리즘의 진화. 방송트렌드&인사이트. vol.05. 19~24  \n",
    "* 조현제, & 이필규. (2014). 클러스터링 기반 협업 필터링 알고리즘을 사용한 분산 추천 시스템. 한국인터넷방송통신학회 논문지, 14(1), 101-107.  \n",
    "* Ekstrand, M. D., Riedl, J. T., & Konstan, J. A. (2011). Collaborative filtering recommender systems. Foundations and Trends in Human-Computer Interaction, 4(2), 81-173.  \n",
    "* Goldberg, D., Nichols, D., Oki, B. M., & Terry, D. (1992). Using collaborative filtering to weave an information tapestry. Communications of the ACM, 35(12), 61-70.  \n",
    "* Rich, E. (1979). User modeling via stereotypes. Cognitive science, 3(4), 329-354.  "
   ]
  },
  {
   "cell_type": "markdown",
   "metadata": {},
   "source": [
    "# 영화평점 예상 기능 구현(Python)"
   ]
  },
  {
   "cell_type": "markdown",
   "metadata": {},
   "source": [
    "* 협업필터링 : 두 사람간의 유사도(Similarity)를 구해 예상 평점을 구하고 비슷한 영화를 추천해주는 등의 알고리즘에 사용된다.  "
   ]
  },
  {
   "cell_type": "markdown",
   "metadata": {},
   "source": [
    "아래에서 사용될 기법은 유저기반(User-based CF)이고,  \n",
    "실제는 아이템기반 (Item-based CF) 기법을 많이 사용한다. "
   ]
  },
  {
   "cell_type": "markdown",
   "metadata": {},
   "source": [
    "### DATA\n",
    "  \n",
    "||가디언즈 오브 갤럭시2|8월의 크리스마스|보스베이비|\n",
    "|---|---|---|---|\n",
    "|A|5|4|1.5|\n",
    "|B|2.5|2|1|\n",
    "|C|?|5|2|\n",
    "|D|3.5|4|5|"
   ]
  },
  {
   "cell_type": "markdown",
   "metadata": {},
   "source": [
    "간단한 예를 위해 표를 Dictionaly로 전환한다.\n"
   ]
  },
  {
   "cell_type": "code",
   "execution_count": 3,
   "metadata": {},
   "outputs": [],
   "source": [
    "scores = {\n",
    "    'A':{'guardians of the galacy 2':5, 'christmas in august':4, 'boss baby':1.5},\n",
    "    'B':{'guardians of the galacy 2':2.5,'christmas in august':2, 'boss baby':1},\n",
    "    'C':{'christmas in august':5, 'boss baby':2},\n",
    "    'D':{'guardians of the galacy 2':3.5, 'christmas in august':4, 'boss baby':5}\n",
    "}"
   ]
  },
  {
   "cell_type": "markdown",
   "metadata": {},
   "source": [
    "Dictionary에서 value를 구하는 방법은 [key]와 .get(key)가 있다.  \n",
    "둘다 value를 도출하나.   \n",
    "[key]는 value가 존재 하지 않으면 **오류**를 발생하고,  \n",
    ".get(key)는 **None**을 출력한다."
   ]
  },
  {
   "cell_type": "code",
   "execution_count": 5,
   "metadata": {},
   "outputs": [
    {
     "data": {
      "text/plain": [
       "{'boss baby': 1.5, 'christmas in august': 4, 'guardians of the galacy 2': 5}"
      ]
     },
     "execution_count": 5,
     "metadata": {},
     "output_type": "execute_result"
    }
   ],
   "source": [
    "scores.get('A')"
   ]
  },
  {
   "cell_type": "code",
   "execution_count": 6,
   "metadata": {},
   "outputs": [
    {
     "data": {
      "text/plain": [
       "1.5"
      ]
     },
     "execution_count": 6,
     "metadata": {},
     "output_type": "execute_result"
    }
   ],
   "source": [
    "scores.get('A').get('boss baby')"
   ]
  },
  {
   "cell_type": "markdown",
   "metadata": {},
   "source": [
    "### 2차원에서 피타고라스 공식을 통해 두사람간의 거리 구하기"
   ]
  },
  {
   "cell_type": "markdown",
   "metadata": {},
   "source": [
    "![](http://img1.daumcdn.net/thumb/R1920x0/?fname=http%3A%2F%2Fcfile7.uf.tistory.com%2Fimage%2F9976F3335A003D9605D0A6)"
   ]
  },
  {
   "cell_type": "markdown",
   "metadata": {},
   "source": [
    "test"
   ]
  },
  {
   "cell_type": "code",
   "execution_count": 20,
   "metadata": {},
   "outputs": [
    {
     "data": {
      "text/plain": [
       "3.1622776601683795"
      ]
     },
     "execution_count": 20,
     "metadata": {},
     "output_type": "execute_result"
    }
   ],
   "source": [
    "from math import sqrt\n",
    "\n",
    "sqrt(pow(1, 2) + pow(3, 2))"
   ]
  },
  {
   "cell_type": "markdown",
   "metadata": {},
   "source": [
    "피타고라스 함수"
   ]
  },
  {
   "cell_type": "code",
   "execution_count": 21,
   "metadata": {},
   "outputs": [],
   "source": [
    "def sim(i, j):\n",
    "    return sqrt(pow(i,2)+pow(j,2))"
   ]
  },
  {
   "cell_type": "markdown",
   "metadata": {},
   "source": [
    "![](http://img1.daumcdn.net/thumb/R1920x0/?fname=http%3A%2F%2Fcfile2.uf.tistory.com%2Fimage%2F999BA9335A003DB8041ABD)"
   ]
  },
  {
   "cell_type": "markdown",
   "metadata": {},
   "source": [
    "$$\n",
    "d_{ij} = \\sqrt{{(x_i - x_j)^2} + {(y_i - y_j)^2}}\n",
    "$$"
   ]
  },
  {
   "cell_type": "code",
   "execution_count": 12,
   "metadata": {},
   "outputs": [
    {
     "data": {
      "text/plain": [
       "1.5"
      ]
     },
     "execution_count": 12,
     "metadata": {},
     "output_type": "execute_result"
    }
   ],
   "source": [
    "scores.get('A').get('boss baby')"
   ]
  },
  {
   "cell_type": "code",
   "execution_count": 10,
   "metadata": {},
   "outputs": [
    {
     "data": {
      "text/plain": [
       "4"
      ]
     },
     "execution_count": 10,
     "metadata": {},
     "output_type": "execute_result"
    }
   ],
   "source": [
    "scores.get('A').get('christmas in august')"
   ]
  },
  {
   "cell_type": "code",
   "execution_count": 13,
   "metadata": {},
   "outputs": [
    {
     "data": {
      "text/plain": [
       "1"
      ]
     },
     "execution_count": 13,
     "metadata": {},
     "output_type": "execute_result"
    }
   ],
   "source": [
    "scores.get('B').get('boss baby')"
   ]
  },
  {
   "cell_type": "code",
   "execution_count": 11,
   "metadata": {},
   "outputs": [
    {
     "data": {
      "text/plain": [
       "2"
      ]
     },
     "execution_count": 11,
     "metadata": {},
     "output_type": "execute_result"
    }
   ],
   "source": [
    "scores.get('B').get('christmas in august')"
   ]
  },
  {
   "cell_type": "code",
   "execution_count": 24,
   "metadata": {},
   "outputs": [],
   "source": [
    "x = scores.get('A').get('boss baby') - scores.get('B').get('boss baby')"
   ]
  },
  {
   "cell_type": "code",
   "execution_count": 25,
   "metadata": {
    "scrolled": true
   },
   "outputs": [],
   "source": [
    "y = scores.get('A').get('christmas in august') - scores.get('B').get('christmas in august')"
   ]
  },
  {
   "cell_type": "code",
   "execution_count": 26,
   "metadata": {},
   "outputs": [
    {
     "data": {
      "text/plain": [
       "2.0615528128088303"
      ]
     },
     "execution_count": 26,
     "metadata": {},
     "output_type": "execute_result"
    }
   ],
   "source": [
    "sim(x, y)"
   ]
  },
  {
   "cell_type": "markdown",
   "metadata": {},
   "source": [
    "### 2차원에서 피타고라스 공식을 통해 2명 이상과의 거리 구하기"
   ]
  },
  {
   "cell_type": "code",
   "execution_count": 27,
   "metadata": {},
   "outputs": [
    {
     "name": "stdout",
     "output_type": "stream",
     "text": [
      "A\n",
      "C\n",
      "D\n",
      "B\n"
     ]
    }
   ],
   "source": [
    "for i in scores:\n",
    "    print(i)"
   ]
  },
  {
   "cell_type": "code",
   "execution_count": 30,
   "metadata": {},
   "outputs": [
    {
     "name": "stdout",
     "output_type": "stream",
     "text": [
      "A  :  1.118033988749895\n",
      "D  :  3.1622776601683795\n",
      "B  :  3.1622776601683795\n"
     ]
    }
   ],
   "source": [
    "for i in scores:\n",
    "    if i != 'C':\n",
    "        x = scores.get('C').get('boss baby') - scores.get(i).get('boss baby')\n",
    "        y = scores.get('C').get('christmas in august') - scores.get(i).get('christmas in august')\n",
    "        print(i, ' : ',sim(x, y))"
   ]
  },
  {
   "cell_type": "markdown",
   "metadata": {},
   "source": [
    "피타고라스를 이용하여 C는 A와 가장 가까움으로 유사도가 가장 높다는 사실을 발견했다."
   ]
  },
  {
   "cell_type": "markdown",
   "metadata": {},
   "source": [
    "### 비교를 위한 정규화(변수 재설정)\n",
    "정규화를 하는 이유는 거리가 무한대로 커질 수 있기때문에 이를 0, 1사이 값으로 변환하여 비교하기 쉽게 범위내에 표현한다."
   ]
  },
  {
   "cell_type": "markdown",
   "metadata": {},
   "source": [
    "* 정규화의 공식\n",
    "$$\n",
    "x_{new} = \\frac{x-x_{min}}{x_{max} - x_{min}}\n",
    "$$"
   ]
  },
  {
   "cell_type": "code",
   "execution_count": 32,
   "metadata": {},
   "outputs": [],
   "source": [
    "def min_value(a, b):\n",
    "    if a > b:\n",
    "        return b\n",
    "    return a\n",
    "def max_value(a, b):\n",
    "    if a > b:\n",
    "        return a\n",
    "    return b"
   ]
  },
  {
   "cell_type": "markdown",
   "metadata": {},
   "source": [
    "본문에서는 위의 공식을 소개하고 있으나 아래의 Mean Squared Difference Similarity를 사용한것 같다."
   ]
  },
  {
   "cell_type": "markdown",
   "metadata": {},
   "source": [
    "MSD(Mean Squared Difference)\n",
    "* User-based Colleborative Filter의 경우:\n",
    "    * 사용자 $u$와 사용자 $v$간의 msd \n",
    "  \n",
    "$$\n",
    "msd(u, v) = \\frac{1}{|U_{uv}|} \\times \\sum_{i \\in U_{uv}}(r_{ui}-r_{vi})^2\n",
    "$$\n",
    "\n",
    "위의 식에서 $U_{uv}$는 사용자 $u$와 사용자$v$모두에 의해 평가된 상품의 집합이고 $|I_{uv}|$는 사용자 $u$와 사용자$v$모두에 의해 평가된 상품의 수이다."
   ]
  },
  {
   "cell_type": "markdown",
   "metadata": {},
   "source": [
    "사용자 $u$와 사용자 $v$가 평가한 상품들의 평잠 간의 차의 제곱 / 사용자 $u$와 사용자 $v$가 모두 평가한 상품들의 수"
   ]
  },
  {
   "cell_type": "markdown",
   "metadata": {},
   "source": [
    "MSDS(Mean Squared Difference Similarity)\n",
    "* Mean Squared Difference (msd) 의 역수로 계산한다.\n",
    "* 차이가 클 수록 Similarity 값은 작아진다.\n",
    "* Mean Squared Difference Similarity 식에서는 MSD가 0이 되는 경우를 대응하기 위해 1을 무조건 더해준다.\n"
   ]
  },
  {
   "cell_type": "markdown",
   "metadata": {},
   "source": [
    "$$\n",
    "MSDSim(i, j) = \\frac{1}{msd(i, j)+1}\n",
    "$$"
   ]
  },
  {
   "cell_type": "code",
   "execution_count": 34,
   "metadata": {},
   "outputs": [
    {
     "name": "stdout",
     "output_type": "stream",
     "text": [
      "A  :  0.4721359549995794\n",
      "D  :  0.2402530733520421\n",
      "B  :  0.2402530733520421\n"
     ]
    }
   ],
   "source": [
    "for i in scores:\n",
    "    if i != 'C':\n",
    "        x = scores.get('C').get('boss baby') - scores.get(i).get('boss baby')\n",
    "        y = scores.get('C').get('christmas in august') - scores.get(i).get('christmas in august')\n",
    "        print(i,\" : \", 1/(1+sim(x, y))) # 다시 정규화 해보기"
   ]
  },
  {
   "cell_type": "markdown",
   "metadata": {},
   "source": [
    "위의 피타고라스 공식은 2차원 대상으로 한정되는 한계가 있다.  \n",
    "따라서 한계가 없은 다차원의 거리를 구해 비교대상이 몇개로 늘어나든 하나의 함수로 비교 하고 유사도를 구해야 된다.  \n",
    "\n",
    "다차원 간의 거리를 구하는 공식들\n",
    "* Euclidean distance\n",
    "* City-block(Manhattan) distance\n",
    "* Minkowski distance\n",
    "* Cosine distance\n",
    "* Jaccard's distance"
   ]
  },
  {
   "cell_type": "markdown",
   "metadata": {},
   "source": [
    "등이 있으나 아래에서는 Euclidean distance(유클리디안 거리공식)을 사용한다."
   ]
  },
  {
   "cell_type": "markdown",
   "metadata": {},
   "source": [
    "### 유클리디안 거리공식\n",
    "  \n",
    "기본틀은 피타고라스와 매우 유사하다.\n",
    "공식은 아래와 같다.\n",
    "  \n",
    "$$\n",
    "\\sqrt{\\sum_{i=1}^n (p_i - q_i)^2} = \\sqrt{(p_1 - q_1)^2 + (p_2 - q_2)^2 + \\ldots + (p_n - q_n)^2}\n",
    "$$"
   ]
  },
  {
   "cell_type": "markdown",
   "metadata": {},
   "source": [
    "이제 위와 같이 유클리디리안 거리공식을 사용하면 여러개의 영화 거리를 구할수 있다."
   ]
  },
  {
   "cell_type": "code",
   "execution_count": 37,
   "metadata": {
    "scrolled": true
   },
   "outputs": [
    {
     "name": "stdout",
     "output_type": "stream",
     "text": [
      "christmas in august\n",
      "boss baby\n",
      "guardians of the galacy 2\n"
     ]
    }
   ],
   "source": [
    "for i in scores['A']:\n",
    "    print(i)"
   ]
  },
  {
   "cell_type": "code",
   "execution_count": 45,
   "metadata": {},
   "outputs": [
    {
     "name": "stdout",
     "output_type": "stream",
     "text": [
      "christmas in august  :  4\n",
      "boss baby  :  1.5\n"
     ]
    }
   ],
   "source": [
    "for i in scores['A']:\n",
    "    if i in scores['C']:\n",
    "        print(i, ' : ', scores['A'][i])"
   ]
  },
  {
   "cell_type": "code",
   "execution_count": 41,
   "metadata": {},
   "outputs": [],
   "source": [
    "def E_distance(data, name1, name2):\n",
    "    e_sum = 0\n",
    "    for i in scores[name1]:\n",
    "        if i in scores[name2]:\n",
    "            e_sum += pow(data[name1][i]-data[name2][i], 2)\n",
    "    return 1/(1+sqrt(e_sum))"
   ]
  },
  {
   "cell_type": "markdown",
   "metadata": {},
   "source": [
    "이제 위 함수를 이용하여 유사도를 구해본다."
   ]
  },
  {
   "cell_type": "code",
   "execution_count": 47,
   "metadata": {},
   "outputs": [
    {
     "data": {
      "text/plain": [
       "0.4721359549995794"
      ]
     },
     "execution_count": 47,
     "metadata": {},
     "output_type": "execute_result"
    }
   ],
   "source": [
    "E_distance(scores, 'A', 'C')"
   ]
  },
  {
   "cell_type": "markdown",
   "metadata": {},
   "source": [
    "이제 다수의 아이템에 대한 두사람의 유사도를 구할 수 있게 되었다."
   ]
  },
  {
   "cell_type": "markdown",
   "metadata": {},
   "source": [
    "### 여러사람중 가장 유사도가 가까운 사람을 구하기\n",
    "- data: dictionaly\n",
    "- name: 기준이 될 사람 또는 아이템\n",
    "- index: 몇위까지 출력할지\n",
    "- sim_funciuon은 위해 만들어 놓은 E_distance함수이다."
   ]
  },
  {
   "cell_type": "code",
   "execution_count": 49,
   "metadata": {},
   "outputs": [
    {
     "name": "stdout",
     "output_type": "stream",
     "text": [
      "A\n",
      "C\n",
      "D\n",
      "B\n"
     ]
    }
   ],
   "source": [
    "for i in scores:\n",
    "    print(i)"
   ]
  },
  {
   "cell_type": "code",
   "execution_count": 58,
   "metadata": {},
   "outputs": [],
   "source": [
    "def best_match(data, name, index=2, E_distance=E_distance):\n",
    "    name_list = []\n",
    "    for i in data:\n",
    "        if name != i: # 자기 자신은 제외한다.\n",
    "            name_list.append((E_distance(data, name, i), i)) # 유사도와 이름을 튜플에 묶어 리스트에 추가\n",
    "    name_list.sort() # 오름 정렬\n",
    "    name_list.reverse() # 내림 정렬\n",
    "    \n",
    "    return name_list[:index]"
   ]
  },
  {
   "cell_type": "code",
   "execution_count": 59,
   "metadata": {},
   "outputs": [
    {
     "data": {
      "text/plain": [
       "[(0.4721359549995794, 'A')]"
      ]
     },
     "execution_count": 59,
     "metadata": {},
     "output_type": "execute_result"
    }
   ],
   "source": [
    "best_match(scores, 'C', index=1)"
   ]
  },
  {
   "cell_type": "code",
   "execution_count": 64,
   "metadata": {},
   "outputs": [
    {
     "data": {
      "text/plain": [
       "[(0.4721359549995794, 'A'),\n",
       " (0.2402530733520421, 'D'),\n",
       " (0.2402530733520421, 'B')]"
      ]
     },
     "execution_count": 64,
     "metadata": {},
     "output_type": "execute_result"
    }
   ],
   "source": [
    "best_point = best_match(scores, 'C', index=3)\n",
    "best_point"
   ]
  },
  {
   "cell_type": "markdown",
   "metadata": {},
   "source": [
    "## barplot을 이용한 시각화\n"
   ]
  },
  {
   "cell_type": "code",
   "execution_count": 62,
   "metadata": {},
   "outputs": [],
   "source": [
    "import matplotlib.pyplot as plt\n",
    "def barchart(data, labels): ## data, labels는 list형태로 사용\n",
    "    positions = range(len(data))\n",
    "    plt.barh(positions, data, height=0.5, color='c') #가로\n",
    "    plt.yticks(positions, labels)\n",
    "    plt.xlabel('similarity') # x축\n",
    "    plt.ylabel('name') # y축\n",
    "    plt.show()"
   ]
  },
  {
   "cell_type": "code",
   "execution_count": 66,
   "metadata": {},
   "outputs": [],
   "source": [
    "point = []\n",
    "names = []\n",
    "for i in best_point:\n",
    "    point.append(i[0])\n",
    "    names.append(i[1])"
   ]
  },
  {
   "cell_type": "code",
   "execution_count": 67,
   "metadata": {},
   "outputs": [
    {
     "data": {
      "text/plain": [
       "[0.4721359549995794, 0.2402530733520421, 0.2402530733520421]"
      ]
     },
     "execution_count": 67,
     "metadata": {},
     "output_type": "execute_result"
    }
   ],
   "source": [
    "point"
   ]
  },
  {
   "cell_type": "code",
   "execution_count": 68,
   "metadata": {},
   "outputs": [
    {
     "data": {
      "text/plain": [
       "['A', 'D', 'B']"
      ]
     },
     "execution_count": 68,
     "metadata": {},
     "output_type": "execute_result"
    }
   ],
   "source": [
    "names"
   ]
  },
  {
   "cell_type": "code",
   "execution_count": 69,
   "metadata": {},
   "outputs": [
    {
     "data": {
      "image/png": "[encoded data removed]",
      "text/plain": [
       "<Figure size 432x288 with 1 Axes>"
      ]
     },
     "metadata": {},
     "output_type": "display_data"
    }
   ],
   "source": [
    "barchart(point, names)"
   ]
  },
  {
   "cell_type": "markdown",
   "metadata": {},
   "source": [
    "위의 유클리디안 거리공식은 큰 문제점이 있다.  \n",
    "바로 특정인물의 점수 기준이 극단적일 경우 제대로된 결과를 낼수 없다는 것이다.  \n"
   ]
  },
  {
   "cell_type": "markdown",
   "metadata": {},
   "source": [
    "예를 들어 나는 영화를 평가할 때 재미있으면 5점 재미 없으면 0이라는 기준을 가지고 있는 사람이라면 전체 데이터에 오류를 야기할 수 있는 문제가 있다.  \n",
    "따라서 이를 보안하기 위하여 Correlation analysis(상관분석)을 도입한다."
   ]
  },
  {
   "cell_type": "markdown",
   "metadata": {},
   "source": [
    "## Correlation analysis(상관분석)"
   ]
  },
  {
   "cell_type": "markdown",
   "metadata": {},
   "source": [
    "상관분석은 두 변수간의 선형적 관계에 대한 분석으로 점수간 관계에 따라 점을 찍은 후,  \n",
    "그 점이 분포한 모양을 따라 상관관계를 도출한 것이다.  \n",
    "아래 그림과 같이 두 변인 x, y에 대해 x가 변화할때 y가 변화되면 x,y는 상관관계가 있다고 한다."
   ]
  },
  {
   "cell_type": "markdown",
   "metadata": {},
   "source": [
    "![](http://img1.daumcdn.net/thumb/R1920x0/?fname=http%3A%2F%2Fcfile30.uf.tistory.com%2Fimage%2F99DDC7335A005466253779)"
   ]
  },
  {
   "cell_type": "markdown",
   "metadata": {},
   "source": [
    "#### 데이터정의"
   ]
  },
  {
   "cell_type": "code",
   "execution_count": 70,
   "metadata": {},
   "outputs": [],
   "source": [
    "big_score = {\n",
    "    'A': {\n",
    "        '택시운전사': 2.5,\n",
    "        '남한산성': 3.5,\n",
    "        '킹스맨:골든서클': 3.0,\n",
    "        '범죄도시': 3.5,\n",
    "        '아이 캔 스피크': 2.5,\n",
    "        'The Night Listener': 3.0,\n",
    "    },\n",
    "    'B': {\n",
    "        '택시운전사': 1.0,\n",
    "        '남한산성': 4.5,\n",
    "        '킹스맨:골든서클': 0.5,\n",
    "        '범죄도시': 1.5,\n",
    "        '아이 캔 스피크': 4.5,\n",
    "        'The Night Listener': 5.0,\n",
    "    },\n",
    "    'C': {\n",
    "        '택시운전사': 3.0,\n",
    "        '남한산성': 3.5,\n",
    "        '킹스맨:골든서클': 1.5,\n",
    "        '범죄도시': 5.0,\n",
    "        'The Night Listener': 3.0,\n",
    "        '아이 캔 스피크': 3.5,\n",
    "    },\n",
    "    'D': {\n",
    "        '택시운전사': 2.5,\n",
    "        '남한산성': 3.0,\n",
    "        '범죄도시': 3.5,\n",
    "        'The Night Listener': 4.0,\n",
    "    },\n",
    "    'E': {\n",
    "        '남한산성': 3.5,\n",
    "        '킹스맨:골든서클': 3.0,\n",
    "        'The Night Listener': 4.5,\n",
    "        '범죄도시': 4.0,\n",
    "        '아이 캔 스피크': 2.5,\n",
    "    },\n",
    "    'F': {\n",
    "        '택시운전사': 3.0,\n",
    "        '남한산성': 4.0,\n",
    "        '킹스맨:골든서클': 2.0,\n",
    "        '범죄도시': 3.0,\n",
    "        'The Night Listener': 3.5,\n",
    "        '아이 캔 스피크': 2.0,\n",
    "    },\n",
    "    'H': {\n",
    "        '택시운전사': 3.0,\n",
    "        '남한산성': 4.0,\n",
    "        'The Night Listener': 3.0,\n",
    "        '범죄도시': 5.0,\n",
    "        '아이 캔 스피크': 3.5,\n",
    "    },\n",
    "    'I': {'남한산성': 4.5, \n",
    "          '아이 캔 스피크': 1.0,\n",
    "          '범죄도시': 4.0\n",
    "         },\n",
    "}"
   ]
  },
  {
   "cell_type": "markdown",
   "metadata": {},
   "source": [
    "#### scatter plot"
   ]
  },
  {
   "cell_type": "markdown",
   "metadata": {},
   "source": [
    "상관분석에 사용할 scatter plot을 그려본다."
   ]
  },
  {
   "cell_type": "code",
   "execution_count": 72,
   "metadata": {},
   "outputs": [],
   "source": [
    "from matplotlib import font_manager, rc \n",
    "font_name = font_manager.FontProperties(fname=\"c:/Windows/Fonts/malgun.ttf\").get_name()\n",
    "rc('font', family=font_name)"
   ]
  },
  {
   "cell_type": "markdown",
   "metadata": {},
   "source": [
    "scatter 예제"
   ]
  },
  {
   "cell_type": "code",
   "execution_count": 76,
   "metadata": {},
   "outputs": [
    {
     "data": {
      "image/png": "[encoded data removed]",
      "text/plain": [
       "<Figure size 1008x576 with 1 Axes>"
      ]
     },
     "metadata": {},
     "output_type": "display_data"
    }
   ],
   "source": [
    "plt.figure(figsize=(14, 8))\n",
    "plt.plot([1, 2, 3], [1, 2, 3], 'bo')\n",
    "plt.text(1, 1, '커피')\n",
    "plt.text(2, 2, '두유')\n",
    "plt.text(3, 3, '콜라')\n",
    "\n",
    "# 각 축의 크기를 설정한다. \n",
    "plt.axis([0, 6, 0, 6]) # 그래프 최대 크기 x, y축 지정\n",
    "plt.show()"
   ]
  },
  {
   "cell_type": "code",
   "execution_count": 78,
   "metadata": {},
   "outputs": [],
   "source": [
    "def scatter_correlation_draw(data, name1, name2):\n",
    "    plt.figure(figsize=(14, 8))\n",
    "    \n",
    "    spot_list = []\n",
    "    spot_list2 = []\n",
    "    \n",
    "    for i in data[name1]:\n",
    "        if i in data[name2]:\n",
    "            spot_list.append(data[name1][i])\n",
    "            spot_list2.append(data[name2][i])\n",
    "            plt.text(data[name1][i], data[name2][i], i)\n",
    "    plt.plot(spot_list, spot_list2, 'r^')\n",
    "    \n",
    "    # 각 축의 크기 설정(0 에서 6까지)\n",
    "    plt.axis([0, 6, 0, 6])\n",
    "    \n",
    "    # x축과 y축 이름 설정\n",
    "    plt.xlabel(name1)\n",
    "    plt.ylabel(name2)\n",
    "    \n",
    "    plt.show()"
   ]
  },
  {
   "cell_type": "code",
   "execution_count": 80,
   "metadata": {},
   "outputs": [
    {
     "data": {
      "image/png": "[encoded data removed]",
      "text/plain": [
       "<Figure size 1008x576 with 1 Axes>"
      ]
     },
     "metadata": {},
     "output_type": "display_data"
    }
   ],
   "source": [
    "scatter_correlation_draw(big_score, 'B', 'F')"
   ]
  },
  {
   "cell_type": "code",
   "execution_count": 82,
   "metadata": {},
   "outputs": [
    {
     "data": {
      "image/png": "[encoded data removed]",
      "text/plain": [
       "<Figure size 1008x576 with 1 Axes>"
      ]
     },
     "metadata": {},
     "output_type": "display_data"
    }
   ],
   "source": [
    "scatter_correlation_draw(big_score, 'A', 'H')"
   ]
  },
  {
   "cell_type": "markdown",
   "metadata": {},
   "source": [
    "위 scatter plot에 따른 상관계수를 구하기 위해 피어슨 상관계수(Pearson Correlation Coefficient)를 이용한다.  \n",
    "피어슨 상관계수는 값이 -1부터 1까지 도출되며,   \n",
    "1에 가까울수록 양의 상관관계,   \n",
    "-1에 가까울수록 음의 상관관계를 나타낸다. "
   ]
  },
  {
   "cell_type": "markdown",
   "metadata": {},
   "source": [
    "> 피어슨 상관계수"
   ]
  },
  {
   "cell_type": "markdown",
   "metadata": {},
   "source": [
    "$$\n",
    "r = \\frac{\\sum XY - \\frac{\\sum X \\sum Y}{N}}{\\sqrt{(\\sum X^2 - \\frac{(\\sum X)^2}{N}) (\\sum Y^2 - \\frac{(\\sum Y)^2}{N})}}\n",
    "$$"
   ]
  },
  {
   "cell_type": "markdown",
   "metadata": {},
   "source": [
    "위 공식을 따라 피어슨 상관계수를 구하는 함수를 만든다."
   ]
  },
  {
   "cell_type": "code",
   "execution_count": 86,
   "metadata": {},
   "outputs": [],
   "source": [
    "def pearson_correlation(data, name1, name2):\n",
    "    sumX = 0 # X의 합\n",
    "    sumY = 0 # Y의 합\n",
    "    sumPowX=0 # x 제곱의 합\n",
    "    sumPowY=0 # y 제곱의 합\n",
    "    sumXY = 0 # X * Y의 합\n",
    "    count = 0 # 영화 개수\n",
    "    \n",
    "    for i in data[name1]:\n",
    "        if i in data[name2]:\n",
    "            sumX += data[name1][i]\n",
    "            sumY += data[name2][i]\n",
    "            sumPowX += pow(data[name1][i], 2)\n",
    "            sumPowY += pow(data[name2][i], 2)\n",
    "            sumXY += data[name1][i]*data[name2][i]\n",
    "            count+=1\n",
    "    return ( sumXY - ((sumX*sumY)/count))/ sqrt((sumPowX - (pow(sumX, 2)/count)) * (sumPowY - (pow(sumY, 2)/count))) "
   ]
  },
  {
   "cell_type": "markdown",
   "metadata": {},
   "source": [
    "이제 실제 함수를 구동해보자 둘사이의 상관계수를 구해본다."
   ]
  },
  {
   "cell_type": "code",
   "execution_count": 87,
   "metadata": {},
   "outputs": [
    {
     "data": {
      "text/plain": [
       "0.41791069697885247"
      ]
     },
     "execution_count": 87,
     "metadata": {},
     "output_type": "execute_result"
    }
   ],
   "source": [
    "pearson_correlation(big_score, 'B', 'F')"
   ]
  },
  {
   "cell_type": "code",
   "execution_count": 88,
   "metadata": {},
   "outputs": [
    {
     "data": {
      "text/plain": [
       "0.7470178808339965"
      ]
     },
     "execution_count": 88,
     "metadata": {},
     "output_type": "execute_result"
    }
   ],
   "source": [
    "pearson_correlation(big_score, 'A', 'H')"
   ]
  },
  {
   "cell_type": "markdown",
   "metadata": {},
   "source": [
    "그림과 같이 A와 H의 상관계수가 좀더 높은 유사성을 보이고 있다."
   ]
  },
  {
   "cell_type": "markdown",
   "metadata": {},
   "source": [
    "### 전체 인원과의 상관계수를 구하기"
   ]
  },
  {
   "cell_type": "markdown",
   "metadata": {},
   "source": [
    "이전에 만들었던 best_match함수를 이용한다."
   ]
  },
  {
   "cell_type": "code",
   "execution_count": 98,
   "metadata": {},
   "outputs": [
    {
     "name": "stdout",
     "output_type": "stream",
     "text": [
      "A\n",
      "B\n",
      "H\n",
      "I\n",
      "C\n",
      "E\n",
      "F\n",
      "D\n"
     ]
    }
   ],
   "source": [
    "for i in big_score:\n",
    "    print(i)"
   ]
  },
  {
   "cell_type": "code",
   "execution_count": 101,
   "metadata": {},
   "outputs": [],
   "source": [
    "def best_match2(data, name, index=3, sim_function=pearson_correlation):\n",
    "    name_list = []\n",
    "    for i in data:\n",
    "        if name != i:\n",
    "            name_list.append((sim_function(data, name, i), i)) # 상관계수를 구해서 list에 추가한다.\n",
    "    name_list.sort() #오름차순\n",
    "    name_list.reverse() #내림차순\n",
    "    return name_list[:index]"
   ]
  },
  {
   "cell_type": "code",
   "execution_count": 103,
   "metadata": {},
   "outputs": [
    {
     "data": {
      "text/plain": [
       "[(0.9912407071619299, 'A'),\n",
       " (0.9244734516419049, 'F'),\n",
       " (0.8934051474415647, 'E'),\n",
       " (0.66284898035987, 'H'),\n",
       " (0.38124642583151164, 'C'),\n",
       " (-0.38124642583151164, 'B')]"
      ]
     },
     "execution_count": 103,
     "metadata": {},
     "output_type": "execute_result"
    }
   ],
   "source": [
    "best_match2(big_score, 'I', 6)"
   ]
  },
  {
   "cell_type": "markdown",
   "metadata": {},
   "source": [
    "I와 A는 0.99의 상관계수를 지녀 거의 유사한 취향인것을 알 수 있게 되었다."
   ]
  },
  {
   "cell_type": "markdown",
   "metadata": {},
   "source": [
    "### 실제 영화 추천하고 예상 평점 구하기"
   ]
  },
  {
   "cell_type": "markdown",
   "metadata": {},
   "source": [
    "이제 위에서 구해진 함수를 통해 실제 영화를 추천하고 예상평점을 구해보는 일만 남았다.  \n",
    "  \n",
    "상관관계는 공동으로 평가를 내린 영화를 기준으로 구한것이지만,  \n",
    "영화추천은 당연히 **아직 대상이 평가를 내지리지 않은 영화**여야 한다."
   ]
  },
  {
   "cell_type": "markdown",
   "metadata": {},
   "source": [
    "또한 상관관계가 가장 높은 사람 한명을 기준으로 영화를 추천하고 예상평점을 구하는 것은 매우 효율과 정확도가 낮다고 생각된다.  \n",
    "유사도의 값을 근거로 하되 일정 기준을 충족하는 사람이라면 모두 예상평점과 추천영화를 구하는데 참고 할 수 있다."
   ]
  },
  {
   "cell_type": "markdown",
   "metadata": {},
   "source": [
    "마지막 과정은 아래와 같다.\n",
    "1. 대상을 제외한 모든 사람들의 영화 쳥점과 유사도를 통해 추측평점((유사도 X (타인의)영화평점)을 구한다.  \n",
    "예를 들어 'A'가 택시 운전자에 2.5점을 주었다면, 'A'와 'I'는 유사도가 99% 이므로 2.47점을 줄것이라고 추측한다.\n",
    "2. 그 추측 평점들의 총합을 구한다.\n",
    "3. 추측평점 총합계/ 유사도 합계를 통해 모든 사람들을 근거로 한 예상 평점을 뽑아낼 수 있다.\n",
    "4. 이 예상평점 값으로 보지 않은 영화를 대상을 모두 구해서 아직 보지 않은 영화중 예상 평점이 가장 높은 영화를 추천하면 될것이다."
   ]
  },
  {
   "cell_type": "markdown",
   "metadata": {},
   "source": [
    "이제 함수명을 정한다 함수명은 Recommend_system()으로 지정한다.  \n",
    "위 함수의 인자는 data, name, sim_function을 사용한다.  "
   ]
  },
  {
   "cell_type": "markdown",
   "metadata": {},
   "source": [
    "함수에 쓰일 데이터는 위에서 정의한 함수 best_mach2를 통해 미리 상관계수를 뽑는 과정이 필요하다.  \n",
    "결과값은 리스트고, 각 데이터는 튜플형태의 (예상평점, 영화제목) 형태로 만든다.  \n",
    "  "
   ]
  },
  {
   "cell_type": "markdown",
   "metadata": {},
   "source": [
    "실제로 영화를 추천하는 과정에서 상관관계가 음수면 고려할 가치가 없다. 오히려 정확도를 깎으리라 예상됨으로 조건을 통해 제거한다.  "
   ]
  },
  {
   "cell_type": "code",
   "execution_count": 121,
   "metadata": {},
   "outputs": [],
   "source": [
    "def Recommend_system(data, name, sim_function=pearson_correlation):\n",
    "    result = best_match2(data, name, len(data))\n",
    "    \n",
    "    simSum = 0 # 유사도를 합하기 위한 변수\n",
    "    score = 0 # 평점 합을 위한 변수\n",
    "    return_list = [] # 리턴을 위한 리스트\n",
    "    score_dic = {} # 유사도 총합을 위한 dic\n",
    "    sim_dic = {} # 평점 총합을 위한 dic\n",
    "    \n",
    "    for sim, m_name in result: # 튜플이므로 한번에\n",
    "        if sim < 0 : continue # 유사도가 양수인 사람만\n",
    "        for movie in data[m_name]:\n",
    "\n",
    "            if movie not in data[name]: # 평가점수가 없는 영화\n",
    "#                 print(movie)\n",
    "                score += sim*data[m_name][movie] # 그사람의 영화평점 * 유사도\n",
    "                score_dic.setdefault(movie,0) # 기본값 설정\n",
    "                score_dic[movie] += score # 예상 점수를 movie에 넣는다.\n",
    "#                 print(score)\n",
    "                # 조건에 맞는 사람의 유사도의 누적합을 구한다.\n",
    "                sim_dic.setdefault(movie, 0)\n",
    "                sim_dic[movie]+=sim\n",
    "            score=0 # 영화가 바뀌었기때문에 점수를 초기화 한다.\n",
    "    \n",
    "    for key in score_dic:\n",
    "        score_dic[key] = score_dic[key]/sim_dic[key] # 평점 총합/ 유사도 총합\n",
    "        return_list.append((score_dic[key], key)) # list((tuple))의 리턴을 위해 만든다.\n",
    "    return_list.sort()\n",
    "    return_list.reverse()\n",
    "    return return_list"
   ]
  },
  {
   "cell_type": "code",
   "execution_count": 126,
   "metadata": {},
   "outputs": [
    {
     "data": {
      "text/plain": [
       "[(3.75, 'guardians of the galacy 2')]"
      ]
     },
     "execution_count": 126,
     "metadata": {},
     "output_type": "execute_result"
    }
   ],
   "source": [
    "Recommend_system(scores, 'C')"
   ]
  },
  {
   "cell_type": "code",
   "execution_count": 125,
   "metadata": {},
   "outputs": [
    {
     "data": {
      "text/plain": [
       "[(3.467750847406967, 'The Night Listener'),\n",
       " (2.8325499182641614, '택시운전사'),\n",
       " (2.5309807037655645, '킹스맨:골든서클')]"
      ]
     },
     "execution_count": 125,
     "metadata": {},
     "output_type": "execute_result"
    }
   ],
   "source": [
    "Recommend_system(big_score, 'I')"
   ]
  }
 ],
 "metadata": {
  "kernelspec": {
   "display_name": "text3.5",
   "language": "python",
   "name": "text3.5"
  },
  "language_info": {
   "codemirror_mode": {
    "name": "ipython",
    "version": 3
   },
   "file_extension": ".py",
   "mimetype": "text/x-python",
   "name": "python",
   "nbconvert_exporter": "python",
   "pygments_lexer": "ipython3",
   "version": "3.5.5"
  }
 },
 "nbformat": 4,
 "nbformat_minor": 2
}
