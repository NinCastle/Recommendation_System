{
 "cells": [
  {
   "cell_type": "markdown",
   "metadata": {},
   "source": [
    "[추천 시스템 알고리즘(근래 주로 사용되는 추천 엔진과 동작 방식)](https://choonguri.github.io/2017/08/01/recommendation-system-algorithms.html)  \n",
    "[빅데이터 자연어처리 + 상품 추천(11번가)](http://readme.skplanet.com/wp-content/uploads/%ED%8A%B8%EB%9E%992-6.%EB%B9%85%EB%8D%B0%EC%9D%B4%ED%84%B0%EC%99%80-%EC%9E%90%EC%97%B0%EC%96%B4%EC%B2%98%EB%A6%AC-%EA%B8%B0%EC%88%A0%EC%9D%84-%EC%9D%B4%EC%9A%A9%ED%95%9C-11%EB%B2%88%EA%B0%80-%EC%83%81%ED%92%88-%EC%B6%94%EC%B2%9C.pdf)  \n",
    "[아마존 논문 분석](http://www.kwangsiklee.com/2017/11/%EB%85%BC%EB%AC%B8%EB%B6%84%EC%84%9D-amazon-com-recommendations-item-to-item-collaborative-filtering/)  \n",
    "[추천 시스템 분석](http://blog.kthdaisy.com:8080/recommendation_system_kthdaisy/)  \n",
    "[왓챠 알고리즘 분석](https://www.slideshare.net/itsociety/4-151106-58384179)  \n",
    "[넷플릭스 알고리즘 분석](https://www.slideshare.net/itsociety/4-151106-58384116)  \n",
    "[개인화 데이터가 필요한 이유(개인화 데이터 활용사례 -> 추천 시스템)](http://sigai.or.kr/workshop/AI-for-everyone/2016/slides/Recommender-System-%EC%9D%91%EC%9A%A9%EC%82%AC%EB%A1%80.pdf)\n",
    "\n",
    "하기 내용은 상기 링크를 정리한것."
   ]
  },
  {
   "cell_type": "markdown",
   "metadata": {},
   "source": [
    "# 추천 시스템 트랜드"
   ]
  }
 ],
 "metadata": {
  "kernelspec": {
   "display_name": "text3.5",
   "language": "python",
   "name": "text3.5"
  },
  "language_info": {
   "codemirror_mode": {
    "name": "ipython",
    "version": 3
   },
   "file_extension": ".py",
   "mimetype": "text/x-python",
   "name": "python",
   "nbconvert_exporter": "python",
   "pygments_lexer": "ipython3",
   "version": "3.5.5"
  }
 },
 "nbformat": 4,
 "nbformat_minor": 2
}
